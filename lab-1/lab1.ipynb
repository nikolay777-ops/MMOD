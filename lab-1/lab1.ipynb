{
 "cells": [
  {
   "cell_type": "code",
   "execution_count": 5,
   "metadata": {},
   "outputs": [],
   "source": [
    "import numpy as np\n",
    "\n",
    "class MersenneTwister:\n",
    "    def __init__(self, seed):\n",
    "        self.seed = np.uint32(seed)\n",
    "        self.index = 0\n",
    "        self.mt = np.zeros(624, dtype=np.uint32)\n",
    "        self.mt[0] = self.seed\n",
    "\n",
    "        for i in range(1, 624):\n",
    "            self.mt[i] = np.uint32(1812433253 * (self.mt[i - 1] ^ (self.mt[i - 1] >> 30)) + i)\n",
    "\n",
    "    def generate(self):\n",
    "        if self.index == 0:\n",
    "            self.twist()\n",
    "\n",
    "        y = self.mt[self.index]\n",
    "        y ^= (y >> np.uint32(11))\n",
    "        y ^= ((y << np.uint32(7)) & 0x9D2C5680)\n",
    "        y ^= ((y << np.uint32(15)) & 0xEFC60000)\n",
    "        y ^= (y >> np.uint32(18))\n",
    "\n",
    "        self.index = (self.index + 1) % 624\n",
    "\n",
    "        # Update the seed with a new random value\n",
    "        self.seed = np.random.randint(0, 2**32, dtype=np.uint32)\n",
    "        self.mt[0] = self.seed\n",
    "\n",
    "        return y / np.float32(2**32 - 1)\n",
    "\n",
    "    def twist(self):\n",
    "        for i in range(624):\n",
    "            y = (self.mt[i] & 0x80000000) + (self.mt[(i + 1) % 624] & 0x7FFFFFFF)\n",
    "            self.mt[i] = self.mt[(i + 397) % 624] ^ (y >> 1)\n",
    "\n",
    "            if y % 2 != 0:\n",
    "                self.mt[i] ^= 0x9908B0DF\n",
    "\n",
    "rng = MersenneTwister(seed=np.random.randint(0, 2**32, dtype=np.uint32))"
   ]
  },
  {
   "cell_type": "code",
   "execution_count": 6,
   "metadata": {},
   "outputs": [],
   "source": [
    "def rand() -> float:\n",
    "    return rng.generate()\n",
    "\n",
    "# def rand() -> float:\n",
    "    # return np.random.uniform(low=0.0, high=1.0, size=None)\n",
    "\n",
    "def solve(x) -> bool:\n",
    "    return True if rand() <= x else False"
   ]
  },
  {
   "cell_type": "code",
   "execution_count": 8,
   "metadata": {},
   "outputs": [
    {
     "data": {
      "text/plain": [
       "(array([90834., 90499., 92119., 91160., 90918., 91341., 90488., 90831.,\n",
       "        90721., 90705., 90384.]),\n",
       " array([1.08359382e-06, 9.09100622e-02, 1.81819041e-01, 2.72728020e-01,\n",
       "        3.63636998e-01, 4.54545977e-01, 5.45454955e-01, 6.36363934e-01,\n",
       "        7.27272913e-01, 8.18181891e-01, 9.09090870e-01, 9.99999849e-01]),\n",
       " <BarContainer object of 11 artists>)"
      ]
     },
     "execution_count": 8,
     "metadata": {},
     "output_type": "execute_result"
    },
    {
     "data": {
      "image/png": "[encoded data removed]",
      "text/plain": [
       "<Figure size 640x480 with 1 Axes>"
      ]
     },
     "metadata": {},
     "output_type": "display_data"
    }
   ],
   "source": [
    "# Проверка равномерного распределения для датчика БСВ\n",
    "import matplotlib.pyplot as plt\n",
    "result = []\n",
    "\n",
    "for _ in range(1000000):\n",
    "    result.append(rand())\n",
    "\n",
    "plt.hist(result, 11)"
   ]
  },
  {
   "cell_type": "code",
   "execution_count": 7,
   "metadata": {},
   "outputs": [
    {
     "name": "stdout",
     "output_type": "stream",
     "text": [
      "[600260, 399740]\n",
      "False\n"
     ]
    }
   ],
   "source": [
    "# Task 1\n",
    "def task1(x):\n",
    "    a = [0, 0]\n",
    "    for _ in range(1000000):\n",
    "        a[solve(x)] += 1\n",
    "    print(a)\n",
    "\n",
    "    if a[1] >= x * 1000000:\n",
    "       return True\n",
    "    else:\n",
    "        return False\n",
    "\n",
    "\n",
    "input_value = float(input(\"Введите вероятность простого случайного события: \"))\n",
    "print(task1(input_value))\n"
   ]
  },
  {
   "cell_type": "code",
   "execution_count": 9,
   "metadata": {},
   "outputs": [
    {
     "name": "stdout",
     "output_type": "stream",
     "text": [
      "[899853, 100147]\n",
      "[499932, 500068]\n",
      "[99914, 900086]\n",
      "[True, True, True]\n"
     ]
    }
   ],
   "source": [
    "# Task 2\n",
    "def task2(in_list: list) ->list:\n",
    "    out_list = []\n",
    "    for x in in_list:\n",
    "        out_list.append(task1(x))\n",
    "    return out_list\n",
    "\n",
    "input_value = [float(elem) for elem in input().split()]\n",
    "print(task2(input_value))"
   ]
  },
  {
   "cell_type": "code",
   "execution_count": 10,
   "metadata": {},
   "outputs": [
    {
     "name": "stdout",
     "output_type": "stream",
     "text": [
      "AB\tAB_\tA_B\tA_B_\n",
      "[0.05, 0.45, 0.05, 0.45]\n",
      "[50101, 450032, 50166, 449701]\n",
      "2\n"
     ]
    }
   ],
   "source": [
    "# Task 3\n",
    "def task3(p1, p2):\n",
    "    out_list = [0,0,0,0]\n",
    "    p3 = 1 - p2\n",
    "    for i in range(1000000):\n",
    "        x1 = rand()\n",
    "        x2 = rand()\n",
    "        if x1 <= p1:\n",
    "            if x2 <= p2:\n",
    "                out_list[0] += 1\n",
    "            else:\n",
    "                out_list[2] += 1\n",
    "        else:            \n",
    "            if x2 <= p3:\n",
    "                out_list[1] += 1\n",
    "            else:\n",
    "                out_list[3] += 1\n",
    "    print(out_list)\n",
    "    return out_list\n",
    "\n",
    "input_values = list(input().split())\n",
    "p1, p2 = input_value[0], input_value[1]\n",
    "print('AB\\tAB_\\tA_B\\tA_B_')\n",
    "print([p1*p2, (1-p1)*(1-p2), p1*(1-p2), (1-p1) * p2])\n",
    "ans = task3(p1, p2)\n",
    "\n",
    "print(max(enumerate(ans), key=lambda x: x[1])[0] + 1)\n"
   ]
  },
  {
   "cell_type": "code",
   "execution_count": 11,
   "metadata": {},
   "outputs": [],
   "source": [
    "# Task 4\n",
    "\n",
    "def task4(in_data: list):\n",
    "    N = len(in_data)\n",
    "    L = [0] * N\n",
    "    L[0] = in_data[0]\n",
    "    out_data = [0] * N\n",
    "    for i in range(1, N):\n",
    "        L[i] = L[i-1] + in_data[i]\n",
    "\n",
    "    for i in range(1000000):\n",
    "        x = rand()\n",
    "        for l in range(N):\n",
    "            if x < L[l]:\n",
    "                out_data[l] += 1\n",
    "                break\n",
    "\n",
    "    print(L)\n",
    "    return out_data"
   ]
  },
  {
   "cell_type": "code",
   "execution_count": 12,
   "metadata": {},
   "outputs": [
    {
     "name": "stdout",
     "output_type": "stream",
     "text": [
      "[0.5, 0.6, 1.0]\n",
      "[499454, 99973, 400573]\n",
      "Events sum: 1000000\n",
      "1\n"
     ]
    }
   ],
   "source": [
    "input_data = [float(elem) for elem in input().split()]\n",
    "if sum(input_data) != 1:\n",
    "    raise ValueError(\"There is no full group\")\n",
    "ans = task4(input_data)\n",
    "print(ans)\n",
    "print(f'Events sum: {sum(ans)}')\n",
    "\n",
    "print(max(enumerate(ans), key=lambda x: x[1])[0] + 1)"
   ]
  },
  {
   "cell_type": "code",
   "execution_count": 12,
   "metadata": {},
   "outputs": [
    {
     "name": "stdout",
     "output_type": "stream",
     "text": [
      "Team count: 64\n",
      "Teams: {'team_1': 64, 'team_2': 52, 'team_3': 29, 'team_4': 6, 'team_5': 89, 'team_6': 93, 'team_7': 34, 'team_8': 31, 'team_9': 95, 'team_10': 1, 'team_11': 87, 'team_12': 2, 'team_13': 22, 'team_14': 40, 'team_15': 18, 'team_16': 27, 'team_17': 54, 'team_18': 18, 'team_19': 61, 'team_20': 61, 'team_21': 4, 'team_22': 10, 'team_23': 15, 'team_24': 49, 'team_25': 41, 'team_26': 53, 'team_27': 28, 'team_28': 18, 'team_29': 84, 'team_30': 48, 'team_31': 84, 'team_32': 6, 'team_33': 34, 'team_34': 66, 'team_35': 7, 'team_36': 13, 'team_37': 20, 'team_38': 20, 'team_39': 48, 'team_40': 6, 'team_41': 54, 'team_42': 94, 'team_43': 0, 'team_44': 10, 'team_45': 26, 'team_46': 51, 'team_47': 51, 'team_48': 97, 'team_49': 22, 'team_50': 61, 'team_51': 92, 'team_52': 2, 'team_53': 62, 'team_54': 31, 'team_55': 5, 'team_56': 5, 'team_57': 15, 'team_58': 95, 'team_59': 81, 'team_60': 99, 'team_61': 5, 'team_62': 12, 'team_63': 22, 'team_64': 50}\n",
      "\n",
      "Current stage: 0\n",
      "Pairs: [('team_33', 'team_46'), ('team_35', 'team_22'), ('team_17', 'team_64'), ('team_44', 'team_14'), ('team_61', 'team_63'), ('team_12', 'team_20'), ('team_5', 'team_36'), ('team_54', 'team_21'), ('team_29', 'team_50'), ('team_58', 'team_34'), ('team_43', 'team_32'), ('team_51', 'team_19'), ('team_49', 'team_16'), ('team_31', 'team_37'), ('team_47', 'team_8'), ('team_60', 'team_3'), ('team_42', 'team_52'), ('team_48', 'team_15'), ('team_25', 'team_13'), ('team_55', 'team_40'), ('team_4', 'team_10'), ('team_2', 'team_28'), ('team_56', 'team_27'), ('team_9', 'team_26'), ('team_59', 'team_30'), ('team_11', 'team_6'), ('team_24', 'team_57'), ('team_62', 'team_18'), ('team_53', 'team_45'), ('team_1', 'team_23'), ('team_38', 'team_7'), ('team_41', 'team_39')]\n",
      "Results: ['team_46', 'team_35', 'team_17', 'team_44', 'team_63', 'team_20', 'team_5', 'team_54', 'team_29', 'team_34', 'team_32', 'team_19', 'team_16', 'team_37', 'team_8', 'team_60', 'team_42', 'team_48', 'team_25', 'team_40', 'team_4', 'team_2', 'team_27', 'team_9', 'team_30', 'team_6', 'team_24', 'team_62', 'team_53', 'team_1', 'team_7', 'team_41']\n",
      "On the 0 stage leaved such teams: ['team_33', 'team_22', 'team_64', 'team_14', 'team_61', 'team_12', 'team_36', 'team_21', 'team_50', 'team_58', 'team_43', 'team_51', 'team_49', 'team_31', 'team_47', 'team_3', 'team_52', 'team_15', 'team_13', 'team_55', 'team_10', 'team_28', 'team_56', 'team_26', 'team_59', 'team_11', 'team_57', 'team_18', 'team_45', 'team_23', 'team_38', 'team_39']\n",
      "\n",
      "Current stage: 1\n",
      "Pairs: [('team_27', 'team_7'), ('team_34', 'team_16'), ('team_42', 'team_62'), ('team_25', 'team_48'), ('team_46', 'team_24'), ('team_54', 'team_35'), ('team_29', 'team_19'), ('team_60', 'team_2'), ('team_41', 'team_9'), ('team_32', 'team_44'), ('team_30', 'team_6'), ('team_5', 'team_53'), ('team_17', 'team_4'), ('team_37', 'team_63'), ('team_20', 'team_8'), ('team_1', 'team_40')]\n",
      "Results: ['team_27', 'team_34', 'team_42', 'team_25', 'team_24', 'team_54', 'team_29', 'team_60', 'team_41', 'team_32', 'team_30', 'team_5', 'team_17', 'team_37', 'team_20', 'team_1']\n",
      "On the 1 stage leaved such teams: ['team_7', 'team_16', 'team_62', 'team_48', 'team_46', 'team_35', 'team_19', 'team_2', 'team_9', 'team_44', 'team_6', 'team_53', 'team_4', 'team_63', 'team_8', 'team_40']\n",
      "\n",
      "Current stage: 2\n",
      "Pairs: [('team_54', 'team_34'), ('team_20', 'team_1'), ('team_37', 'team_42'), ('team_27', 'team_32'), ('team_5', 'team_41'), ('team_60', 'team_30'), ('team_25', 'team_17'), ('team_29', 'team_24')]\n",
      "Results: ['team_54', 'team_20', 'team_42', 'team_27', 'team_5', 'team_60', 'team_25', 'team_29']\n",
      "On the 2 stage leaved such teams: ['team_34', 'team_1', 'team_37', 'team_32', 'team_41', 'team_30', 'team_17', 'team_24']\n",
      "\n",
      "Current stage: 3\n",
      "Pairs: [('team_29', 'team_20'), ('team_27', 'team_5'), ('team_60', 'team_25'), ('team_42', 'team_54')]\n",
      "Results: ['team_29', 'team_5', 'team_60', 'team_42']\n",
      "On the 3 stage leaved such teams: ['team_20', 'team_27', 'team_25', 'team_54']\n",
      "\n",
      "Current stage: 4\n",
      "Pairs: [('team_42', 'team_60'), ('team_5', 'team_29')]\n",
      "Results: ['team_60', 'team_5']\n",
      "On the 4 stage leaved such teams: ['team_42', 'team_29']\n",
      "\n",
      "Current stage: 5\n",
      "Pairs: [('team_60', 'team_5')]\n",
      "Results: ['team_5']\n",
      "On the 5 stage leaved such teams: ['team_60']\n",
      "The winner of tournamet is team_5\n"
     ]
    }
   ],
   "source": [
    "# Task 5 (footbal games)\n",
    "\n",
    "import math \n",
    "\n",
    "teams_exp = int(input())\n",
    "\n",
    "if teams_exp > 6 or teams_exp < 0: \n",
    "    raise ValueError('Teams count should be less or equal 6')\n",
    "\n",
    "K = int(math.pow(2, int(teams_exp)))\n",
    "print(f'Team count: {K}')\n",
    "teams_rating = [int(rand()*100) for _ in range(K)]\n",
    "\n",
    "teams_dict = dict(zip(\n",
    "    [f'team_{i}' for i in range(1, len(teams_rating) + 1)],\n",
    "    teams_rating\n",
    "))\n",
    "\n",
    "print(f'Teams: {teams_dict}')\n",
    "\n",
    "def get_pairs(teams: list)-> list:\n",
    "    return [(teams[i][0], teams[-(i+1)][0]) for i in range(len(teams) // 2)]\n",
    "\n",
    "def get_pair_probability(pair: tuple) -> tuple:\n",
    "    prob_sum = teams_dict[pair[0]] + teams_dict[pair[1]]\n",
    "\n",
    "    return teams_dict[pair[0]] / prob_sum\n",
    "\n",
    "def play_game(value):\n",
    "    if value > rand():\n",
    "        return True\n",
    "    else:\n",
    "        return False\n",
    "    \n",
    "def get_leave_teams_info(stage: int, teams: list):\n",
    "    if len(teams) > 0:\n",
    "        print(f'On the {stage} stage leaved such teams: {teams}')\n",
    "    else:\n",
    "        print('No one team leaves stage {stage}')\n",
    "\n",
    "stage = 0\n",
    "leave_stages_dict = {key: [] for key in [_ for _ in range(teams_exp)]}\n",
    "\n",
    "while(len(teams_dict.keys()) > 1):\n",
    "\n",
    "    teams_prob = [(key, round(rand(), 5)) for key in teams_dict.keys()]\n",
    "    teams_prob.sort(key=lambda x: x[1])\n",
    "    pairs = get_pairs(teams_prob)\n",
    "    print(f'\\nCurrent stage: {stage}')\n",
    "    print(f'Pairs: {pairs}')\n",
    "\n",
    "    games = [get_pair_probability(elem) for elem in pairs]\n",
    "\n",
    "    results = []\n",
    "\n",
    "    for i in range(len(pairs)):\n",
    "        if play_game(games[i]) is True:\n",
    "            results.append(pairs[i][0])\n",
    "            leave_stages_dict[stage].append(pairs[i][1]) \n",
    "            teams_dict.pop(pairs[i][1])\n",
    "        else: \n",
    "            results.append(pairs[i][1])\n",
    "            leave_stages_dict[stage].append(pairs[i][0]) \n",
    "            teams_dict.pop(pairs[i][0])\n",
    "\n",
    "    print(f'Results: {results}')\n",
    "    get_leave_teams_info(stage, leave_stages_dict[stage])\n",
    "    stage += 1\n",
    "\n",
    "print(f'The winner of tournamet is {results[0]}')\n"
   ]
  }
 ],
 "metadata": {
  "kernelspec": {
   "display_name": "Python 3 (ipykernel)",
   "language": "python",
   "name": "python3"
  },
  "language_info": {
   "codemirror_mode": {
    "name": "ipython",
    "version": 3
   },
   "file_extension": ".py",
   "mimetype": "text/x-python",
   "name": "python",
   "nbconvert_exporter": "python",
   "pygments_lexer": "ipython3",
   "version": "3.8.10"
  },
  "vscode": {
   "interpreter": {
    "hash": "916dbcbb3f70747c44a77c7bcd40155683ae19c65e1c03b4aa3499c5328201f1"
   }
  }
 },
 "nbformat": 4,
 "nbformat_minor": 2
}
